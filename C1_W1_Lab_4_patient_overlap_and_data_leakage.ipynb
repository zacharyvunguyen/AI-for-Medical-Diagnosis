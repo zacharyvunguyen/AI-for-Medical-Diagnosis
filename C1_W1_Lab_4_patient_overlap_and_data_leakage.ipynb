{
 "cells": [
  {
   "cell_type": "markdown",
   "metadata": {},
   "source": [
    "# Patient Overlap and Data Leakage\n",
    "\n",
    "Patient overlap in medical data is a part of a more general problem in machine learning called **data leakage**.  To identify patient overlap in this week's graded assignment, you'll check to see if a patient's ID appears in both the training set and the test set. You should also verify that you don't have patient overlap in the training and validation sets, which is what you'll do here.\n",
    "\n",
    "Below is a simple example showing how you can check for and remove patient overlap in your training and validations sets."
   ]
  },
  {
   "cell_type": "code",
   "execution_count": 1,
   "metadata": {},
   "outputs": [],
   "source": [
    "# Import necessary packages\n",
    "import pandas as pd\n",
    "import numpy as np\n",
    "import matplotlib.pyplot as plt\n",
    "%matplotlib inline\n",
    "import os\n",
    "import seaborn as sns\n",
    "sns.set()"
   ]
  },
  {
   "cell_type": "markdown",
   "metadata": {},
   "source": [
    "## 1. Data\n",
    "\n",
    "### 1.1 Loading the Data\n",
    "\n",
    "First, you'll read in your training and validation datasets from csv files. Run the next two cells to read these csvs into `pandas` dataframes."
   ]
  },
  {
   "cell_type": "code",
   "execution_count": 2,
   "metadata": {},
   "outputs": [
    {
     "name": "stdout",
     "output_type": "stream",
     "text": [
      "There are 1000 rows and 16 columns in the training dataframe\n"
     ]
    },
    {
     "data": {
      "text/plain": "              Image  Atelectasis  Cardiomegaly  Consolidation  Edema  \\\n0  00008270_015.png            0             0              0      0   \n1  00029855_001.png            1             0              0      0   \n2  00001297_000.png            0             0              0      0   \n3  00012359_002.png            0             0              0      0   \n4  00017951_001.png            0             0              0      0   \n\n   Effusion  Emphysema  Fibrosis  Hernia  Infiltration  Mass  Nodule  \\\n0         0          0         0       0             0     0       0   \n1         1          0         0       0             1     0       0   \n2         0          0         0       0             0     0       0   \n3         0          0         0       0             0     0       0   \n4         0          0         0       0             1     0       0   \n\n   PatientId  Pleural_Thickening  Pneumonia  Pneumothorax  \n0       8270                   0          0             0  \n1      29855                   0          0             0  \n2       1297                   1          0             0  \n3      12359                   0          0             0  \n4      17951                   0          0             0  ",
      "text/html": "<div>\n<style scoped>\n    .dataframe tbody tr th:only-of-type {\n        vertical-align: middle;\n    }\n\n    .dataframe tbody tr th {\n        vertical-align: top;\n    }\n\n    .dataframe thead th {\n        text-align: right;\n    }\n</style>\n<table border=\"1\" class=\"dataframe\">\n  <thead>\n    <tr style=\"text-align: right;\">\n      <th></th>\n      <th>Image</th>\n      <th>Atelectasis</th>\n      <th>Cardiomegaly</th>\n      <th>Consolidation</th>\n      <th>Edema</th>\n      <th>Effusion</th>\n      <th>Emphysema</th>\n      <th>Fibrosis</th>\n      <th>Hernia</th>\n      <th>Infiltration</th>\n      <th>Mass</th>\n      <th>Nodule</th>\n      <th>PatientId</th>\n      <th>Pleural_Thickening</th>\n      <th>Pneumonia</th>\n      <th>Pneumothorax</th>\n    </tr>\n  </thead>\n  <tbody>\n    <tr>\n      <th>0</th>\n      <td>00008270_015.png</td>\n      <td>0</td>\n      <td>0</td>\n      <td>0</td>\n      <td>0</td>\n      <td>0</td>\n      <td>0</td>\n      <td>0</td>\n      <td>0</td>\n      <td>0</td>\n      <td>0</td>\n      <td>0</td>\n      <td>8270</td>\n      <td>0</td>\n      <td>0</td>\n      <td>0</td>\n    </tr>\n    <tr>\n      <th>1</th>\n      <td>00029855_001.png</td>\n      <td>1</td>\n      <td>0</td>\n      <td>0</td>\n      <td>0</td>\n      <td>1</td>\n      <td>0</td>\n      <td>0</td>\n      <td>0</td>\n      <td>1</td>\n      <td>0</td>\n      <td>0</td>\n      <td>29855</td>\n      <td>0</td>\n      <td>0</td>\n      <td>0</td>\n    </tr>\n    <tr>\n      <th>2</th>\n      <td>00001297_000.png</td>\n      <td>0</td>\n      <td>0</td>\n      <td>0</td>\n      <td>0</td>\n      <td>0</td>\n      <td>0</td>\n      <td>0</td>\n      <td>0</td>\n      <td>0</td>\n      <td>0</td>\n      <td>0</td>\n      <td>1297</td>\n      <td>1</td>\n      <td>0</td>\n      <td>0</td>\n    </tr>\n    <tr>\n      <th>3</th>\n      <td>00012359_002.png</td>\n      <td>0</td>\n      <td>0</td>\n      <td>0</td>\n      <td>0</td>\n      <td>0</td>\n      <td>0</td>\n      <td>0</td>\n      <td>0</td>\n      <td>0</td>\n      <td>0</td>\n      <td>0</td>\n      <td>12359</td>\n      <td>0</td>\n      <td>0</td>\n      <td>0</td>\n    </tr>\n    <tr>\n      <th>4</th>\n      <td>00017951_001.png</td>\n      <td>0</td>\n      <td>0</td>\n      <td>0</td>\n      <td>0</td>\n      <td>0</td>\n      <td>0</td>\n      <td>0</td>\n      <td>0</td>\n      <td>1</td>\n      <td>0</td>\n      <td>0</td>\n      <td>17951</td>\n      <td>0</td>\n      <td>0</td>\n      <td>0</td>\n    </tr>\n  </tbody>\n</table>\n</div>"
     },
     "execution_count": 2,
     "metadata": {},
     "output_type": "execute_result"
    }
   ],
   "source": [
    "# Read csv file containing training data\n",
    "train_df = pd.read_csv(\"data/nih/train-small.csv\")\n",
    "# Print first 5 rows\n",
    "print(f'There are {train_df.shape[0]} rows and {train_df.shape[1]} columns in the training dataframe')\n",
    "train_df.head()"
   ]
  },
  {
   "cell_type": "code",
   "execution_count": 3,
   "metadata": {},
   "outputs": [
    {
     "name": "stdout",
     "output_type": "stream",
     "text": [
      "There are 109 rows and 16 columns in the validation dataframe\n"
     ]
    },
    {
     "data": {
      "text/plain": "              Image  Atelectasis  Cardiomegaly  Consolidation  Edema  \\\n0  00027623_007.png            0             0              0      1   \n1  00028214_000.png            0             0              0      0   \n2  00022764_014.png            0             0              0      0   \n3  00020649_001.png            1             0              0      0   \n4  00022283_023.png            0             0              0      0   \n\n   Effusion  Emphysema  Fibrosis  Hernia  Infiltration  Mass  Nodule  \\\n0         1          0         0       0             0     0       0   \n1         0          0         0       0             0     0       0   \n2         0          0         0       0             0     0       0   \n3         1          0         0       0             0     0       0   \n4         0          0         0       0             0     0       0   \n\n   PatientId  Pleural_Thickening  Pneumonia  Pneumothorax  \n0      27623                   0          0             0  \n1      28214                   0          0             0  \n2      22764                   0          0             0  \n3      20649                   0          0             0  \n4      22283                   0          0             0  ",
      "text/html": "<div>\n<style scoped>\n    .dataframe tbody tr th:only-of-type {\n        vertical-align: middle;\n    }\n\n    .dataframe tbody tr th {\n        vertical-align: top;\n    }\n\n    .dataframe thead th {\n        text-align: right;\n    }\n</style>\n<table border=\"1\" class=\"dataframe\">\n  <thead>\n    <tr style=\"text-align: right;\">\n      <th></th>\n      <th>Image</th>\n      <th>Atelectasis</th>\n      <th>Cardiomegaly</th>\n      <th>Consolidation</th>\n      <th>Edema</th>\n      <th>Effusion</th>\n      <th>Emphysema</th>\n      <th>Fibrosis</th>\n      <th>Hernia</th>\n      <th>Infiltration</th>\n      <th>Mass</th>\n      <th>Nodule</th>\n      <th>PatientId</th>\n      <th>Pleural_Thickening</th>\n      <th>Pneumonia</th>\n      <th>Pneumothorax</th>\n    </tr>\n  </thead>\n  <tbody>\n    <tr>\n      <th>0</th>\n      <td>00027623_007.png</td>\n      <td>0</td>\n      <td>0</td>\n      <td>0</td>\n      <td>1</td>\n      <td>1</td>\n      <td>0</td>\n      <td>0</td>\n      <td>0</td>\n      <td>0</td>\n      <td>0</td>\n      <td>0</td>\n      <td>27623</td>\n      <td>0</td>\n      <td>0</td>\n      <td>0</td>\n    </tr>\n    <tr>\n      <th>1</th>\n      <td>00028214_000.png</td>\n      <td>0</td>\n      <td>0</td>\n      <td>0</td>\n      <td>0</td>\n      <td>0</td>\n      <td>0</td>\n      <td>0</td>\n      <td>0</td>\n      <td>0</td>\n      <td>0</td>\n      <td>0</td>\n      <td>28214</td>\n      <td>0</td>\n      <td>0</td>\n      <td>0</td>\n    </tr>\n    <tr>\n      <th>2</th>\n      <td>00022764_014.png</td>\n      <td>0</td>\n      <td>0</td>\n      <td>0</td>\n      <td>0</td>\n      <td>0</td>\n      <td>0</td>\n      <td>0</td>\n      <td>0</td>\n      <td>0</td>\n      <td>0</td>\n      <td>0</td>\n      <td>22764</td>\n      <td>0</td>\n      <td>0</td>\n      <td>0</td>\n    </tr>\n    <tr>\n      <th>3</th>\n      <td>00020649_001.png</td>\n      <td>1</td>\n      <td>0</td>\n      <td>0</td>\n      <td>0</td>\n      <td>1</td>\n      <td>0</td>\n      <td>0</td>\n      <td>0</td>\n      <td>0</td>\n      <td>0</td>\n      <td>0</td>\n      <td>20649</td>\n      <td>0</td>\n      <td>0</td>\n      <td>0</td>\n    </tr>\n    <tr>\n      <th>4</th>\n      <td>00022283_023.png</td>\n      <td>0</td>\n      <td>0</td>\n      <td>0</td>\n      <td>0</td>\n      <td>0</td>\n      <td>0</td>\n      <td>0</td>\n      <td>0</td>\n      <td>0</td>\n      <td>0</td>\n      <td>0</td>\n      <td>22283</td>\n      <td>0</td>\n      <td>0</td>\n      <td>0</td>\n    </tr>\n  </tbody>\n</table>\n</div>"
     },
     "execution_count": 3,
     "metadata": {},
     "output_type": "execute_result"
    }
   ],
   "source": [
    "# Read csv file containing validation data\n",
    "valid_df = pd.read_csv(\"data/nih/valid-small.csv\")\n",
    "# Print first 5 rows\n",
    "print(f'There are {valid_df.shape[0]} rows and {valid_df.shape[1]} columns in the validation dataframe')\n",
    "valid_df.head()"
   ]
  },
  {
   "cell_type": "code",
   "execution_count": 4,
   "outputs": [
    {
     "data": {
      "text/plain": "(109, 16)"
     },
     "execution_count": 4,
     "metadata": {},
     "output_type": "execute_result"
    }
   ],
   "source": [
    "valid_df.shape"
   ],
   "metadata": {
    "collapsed": false,
    "pycharm": {
     "name": "#%%\n"
    }
   }
  },
  {
   "cell_type": "markdown",
   "metadata": {},
   "source": [
    "### 1.2 Extracting Patient IDs \n",
    "\n",
    "By running the next three cells you will do the following:\n",
    "1. Extract patient IDs from the train and validation sets"
   ]
  },
  {
   "cell_type": "code",
   "execution_count": 5,
   "metadata": {},
   "outputs": [],
   "source": [
    "# Extract patient id's for the training set\n",
    "ids_train = train_df.PatientId.values\n",
    "# Extract patient id's for the validation set\n",
    "ids_valid = valid_df.PatientId.values"
   ]
  },
  {
   "cell_type": "code",
   "execution_count": 6,
   "outputs": [
    {
     "data": {
      "text/plain": "array([ 8270, 29855,  1297, 12359, 17951,  1232, 17135, 27235, 14197,\n       11584, 28208, 15929,  9911, 26232, 17417, 12045, 13710,  5410,\n        8515, 28574, 21441, 10877, 16030, 12753, 11315, 20471, 12966,\n       12045, 11579, 20240, 23309, 21376, 16719, 16604, 12615, 26576,\n       22572,  8068,  5759, 27665, 29047,  9447, 27900, 17702, 17126,\n       17997, 10294, 23508,  1738, 17470,  8230,  8760,  6039, 17691,\n         375, 13592,  5904,  6426, 29865,  1849, 13111, 20052, 11366,\n       13904, 14125, 20188, 26489,  8767, 27455, 21750,  3005, 12487,\n        2614,  1986, 17920, 26185,  3534, 14603, 22870, 30629, 16007,\n       27725, 19014,  2000,  5241,   589, 21489,  9365,  4523,  6010,\n       25315, 25628, 10035, 10548,  1430, 10808, 30079, 21195, 10888,\n        4360,  1212, 14604, 23825, 17731, 14107,  5905, 16034, 26825,\n       29023,   658,  6926, 26835, 15360, 10557,  7523, 15078, 14223,\n       28876, 18860, 25971,  9701,   918,   720,  4344,  1610, 26469,\n       11420, 21457, 25813,  4858, 22135,  4195, 10582, 29172, 18000,\n       27631,  1831, 17714, 26399, 25746, 12640, 10531, 28682, 27260,\n        8130, 22559, 30415,  5418,  1168,  3759,   121, 19233,  8741,\n        4533,  3868,  6575, 26685, 14520,   443,  9912, 25858,  5474,\n        9185, 12379, 22047, 14758,  6634,  3393, 30041,  2890,  8348,\n        6761, 17753,  8594, 28550,  2898, 17443, 13408,  3382,  2705,\n       26495, 26810, 10651, 13712, 18669, 18360, 27618, 16397,  4090,\n        8033, 28844,  2312,  7670, 25645, 21449, 25695, 29454, 20213,\n       25295, 20657, 28723,  3395,  7185, 14128, 22781, 13003,  5089,\n       13111, 26543, 12520,   444,  5348, 20184, 28902, 12019, 22982,\n       17549,  7247, 21168,   310, 16318, 19774, 25234, 13476, 26505,\n        6785, 19625, 17231, 23967,  9727, 27888, 12904, 23138, 16615,\n       27743,  7781,   248, 19192, 30158,  5639, 14060, 28040, 24009,\n       20945, 27546, 19333, 12829, 13261,  3576,  6039, 27287,  4833,\n        7317, 11770, 16092, 11859, 20769,  7141, 26505, 19521, 10741,\n       25288,   640, 30389, 11713,  3670, 10433, 29830, 16109, 20318,\n       20158, 18917,  4673, 12556, 18996,  5566,  7482,  7320,  5746,\n        9920, 12144, 14849, 23331, 15387, 13774,   832,  6395, 29464,\n       13088, 11850, 13534,  9807, 13969, 25638, 15679, 12573, 20213,\n        2660, 10060,  3028,  6021, 10967, 19984, 22458, 11558,  9340,\n       20290, 15507,  7627,  4898,  1143, 13111, 20172, 30733, 16689,\n       11426, 14618, 10897,   588,  1301, 20673, 18626,  6906,  6585,\n       18546,  4438, 13685, 18253,  5567,  6585,  4237, 17972, 13003,\n       15647,  7439, 15498, 30162,  3586, 10530,  6991,  9326,  4544,\n       12903, 27287,  1107, 13670,  9185, 14768,  4220,  1190,  1749,\n       21509, 11683, 18512, 19409,  7390, 23372, 27975, 17961, 12362,\n        4839,   116, 11517,    22,  2474,  9552, 27213, 25220, 16508,\n        7687, 16189,  1526, 19615,  3574,  1153, 12585, 10390, 27547,\n       17840,  4381, 10314, 19108,  4787, 13999, 26414, 23296, 10384,\n        6948, 11167, 12835, 14398, 14082, 15756,  2704, 10092, 22957,\n       14758, 21154, 10932,  5646, 15809, 10289,  7728, 22093, 25664,\n       26810, 15495,  3254, 22764, 16716, 19565, 17985, 16832,  2156,\n       14368,  5289, 12161,  8911, 13831, 25650, 12326,  6234, 22248,\n       19899,  8403, 27464,  1506, 26171, 30410, 22106, 18855,   359,\n       16019, 28081, 26233, 20787, 18100, 19967, 13049,  1385, 20213,\n       25383, 18615,  5502, 27657, 25580, 13003,  7828,  2478,  5890,\n         549,  9033,  3034,  5089, 25200, 28304, 30082,   538,  4144,\n       11060, 26825, 20113, 29883, 21351, 22484, 27912, 30008,  1034,\n        8142,  7958, 26500,  8081, 21982, 11211, 25238, 26168, 23065,\n       15530,  6229,  1806,  6586,  7016, 13603, 22125,  3122,  6081,\n       26889,  2661, 19708, 27594, 24231, 26555,  5832, 24597, 11380,\n       16480, 19812, 30635,  6436,  9798,  7523, 27455,  5231, 27202,\n       12345, 12014, 28974,  3489, 26208, 16860,  9446, 25628,  6097,\n       12051,   359,  6272, 22899, 28591, 26232,  8093,  2192, 19405,\n       15647, 12505, 27652, 28996,   914, 14465, 11217, 26562, 24175,\n        1253,  5365, 29091, 10093,  5176, 12249, 10050,  7046,  5132,\n       19525, 11544,  1836, 24474, 22237, 23158, 15530, 13572, 15732,\n        3863, 16341,  6551, 20908, 16714,  3353, 13985, 20552, 17417,\n       16630, 18432,  4709, 28192, 19528, 23372, 21869, 28088,  8975,\n       23128, 18641, 26136,  9323, 13567, 11894, 16952,  9826, 15375,\n       16052,   599, 12874, 15350,  4096, 13685, 26246, 12761, 10132,\n       28416, 30061, 16019, 16693,  8081, 27299, 29118, 20438, 14274,\n       30156, 14146, 12736, 22883, 25628,  2491, 26925, 10775, 24130,\n        5400, 10294, 16747, 17158, 19594,  1952,  9474, 11828,  4595,\n       30652,  5646, 13209, 11583,  3675, 20846, 16521, 27359, 29808,\n       16650, 15428, 14677, 28109, 11136,  4497, 27486, 10946,   940,\n        9798,  1897, 12043,  6360, 18843,  8767,  4149,  7354,  3947,\n       15056, 26322, 12454,  8220, 12515,  7157, 18005, 30332, 16934,\n       10758,  7873, 21389,  6198,  1006, 17061, 19150,  1373, 26497,\n         980,  4270,  8468,  2743, 18494, 16732, 22993, 13950,  5210,\n       16568, 30629, 26793, 22479, 20458,  5069, 13449, 29259, 13111,\n       20077, 27863, 15090,  1648, 13209,  1113, 30306, 19038, 29663,\n       29244, 29863,  6104, 13653,  3867, 22883, 10334, 28485, 28606,\n        4581, 29711,  6297,  5089, 12176, 29192, 24560, 11049, 16350,\n       16410, 15915, 27346, 11156, 11256, 23079, 15166,  9418, 29142,\n        4006,  6906,   865,  5416, 20603, 15572, 20738,  7468,  4677,\n        9361, 10343, 15647, 18007, 13229,  7906,  5986,  2393, 28766,\n       18056, 11632,  9281, 17503, 26004, 14626,  5183, 18145, 11355,\n       14609, 15003, 10827, 16595, 17524, 15977,  5335,   827, 17098,\n       29809, 14134, 14918, 26494, 11251, 12060,  3841, 18013,  1701,\n       23069,  2505, 12372,   315, 19680,  1382, 29822, 25954, 25703,\n       27260, 11051, 28844, 18383,  5756,  5723,  2846, 11117, 19271,\n        8297, 13405,  6425, 10387, 19899,  2785, 29435, 17133, 17508,\n       20772, 17158, 23276,  6053, 16657, 12775, 20213, 26997, 29323,\n       13615, 10476, 10120, 10592, 22526,  9925, 13931, 17819, 30393,\n        3148, 25787,   772,  6799,  8059, 14716, 10909, 10012, 28964,\n       27357,  7133, 10790,  8284,  2772, 15493, 23128, 20607, 14015,\n       25527, 11484, 11971, 20770,   103, 20278,  6851, 12264, 18044,\n        8368, 19767, 20517, 21179,  9940,  3595, 20819,  2721, 25760,\n        4523, 27282, 15224, 20213, 27474, 18989, 25613, 20159,  5153,\n       26132, 20819, 18689, 15893, 19785,  8147, 28634, 13089, 25527,\n       27485, 13625, 13564, 13408, 11355, 19578, 16807,  5400, 28606,\n       17178,  1659, 19149, 12047, 13804,  4503,  5577, 15732,  6434,\n       11570,  2457, 19469, 16882, 22159, 10531, 11696,  7670, 14919,\n       22526, 11425, 26599, 17260,  3659, 15399, 24849,  3392,  3689,\n       22717,  9562,  9508, 26825, 10909, 18086, 29593, 19847, 11391,\n        9027, 15628,  5983, 14710, 10524, 17645,  1794, 30340,  7717,\n       10332,   772, 30380, 23116,  4461, 17944, 25843, 26050, 19981,\n       18860,  7943, 25252, 16164, 21398, 30024, 16813, 22604, 22362,\n       18660,  8171,  8353,  9453,  7676, 15895, 28028,  2666,   459,\n       18810,  2350,  2847, 16009,  4824, 21759, 12171,  7106, 16075,\n       30393, 25081,  1718, 17988, 28264, 16052,  9549, 12413, 21623,\n         798,   506, 16784,  3573, 11535, 19871,  5008,  8081,  4858,\n       16109, 13003,  5722,  1001, 21293,  3028,  1033, 13282, 26480,\n       27685, 19576,  1456, 29981, 23154, 13523, 15605, 11155,  3439,\n       21711, 14296,  5309, 19293, 20213, 10346,  3481,   875,  7533,\n       19382,  1805, 21364, 19605, 27235, 15869, 20113, 19939, 30496,\n       12363])"
     },
     "execution_count": 6,
     "metadata": {},
     "output_type": "execute_result"
    }
   ],
   "source": [
    "ids_train"
   ],
   "metadata": {
    "collapsed": false,
    "pycharm": {
     "name": "#%%\n"
    }
   }
  },
  {
   "cell_type": "markdown",
   "metadata": {},
   "source": [
    "### 1.3 Comparing PatientIDs for Train & Validation Sets\n",
    "\n",
    "2. Convert these arrays of numbers into `set()` datatypes for easy comparison\n",
    "3. Identify patient overlap in the intersection of the two sets"
   ]
  },
  {
   "cell_type": "code",
   "execution_count": 7,
   "metadata": {},
   "outputs": [
    {
     "name": "stdout",
     "output_type": "stream",
     "text": [
      "There are 928 unique Patient IDs in the training set\n",
      "There are 97 unique Patient IDs in the valiation set\n"
     ]
    }
   ],
   "source": [
    "# Create a \"set\" datastructure of the training set id's to identify unique id's\n",
    "ids_train_set = set(ids_train)\n",
    "print(f'There are {len(ids_train_set)} unique Patient IDs in the training set')\n",
    "# Create a \"set\" datastructure of the validation set id's to identify unique id's\n",
    "ids_valid_set = set(ids_valid)\n",
    "print(f'There are {len(ids_valid_set)} unique Patient IDs in the valiation set')"
   ]
  },
  {
   "cell_type": "code",
   "execution_count": 8,
   "metadata": {},
   "outputs": [
    {
     "name": "stdout",
     "output_type": "stream",
     "text": [
      "There are 11 Patient IDs in both the training and validation sets\n",
      "\n",
      "These patients are in both the training and validation datasets:\n",
      "[20290, 27618, 9925, 10888, 22764, 19981, 18253, 4461, 28208, 8760, 7482]\n"
     ]
    }
   ],
   "source": [
    "# Identify patient overlap by looking at the intersection between the sets\n",
    "patient_overlap = list(ids_train_set.intersection(ids_valid_set))\n",
    "n_overlap = len(patient_overlap)\n",
    "print(f'There are {n_overlap} Patient IDs in both the training and validation sets')\n",
    "print('')\n",
    "print(f'These patients are in both the training and validation datasets:')\n",
    "print(f'{patient_overlap}')"
   ]
  },
  {
   "cell_type": "markdown",
   "metadata": {},
   "source": [
    "### 1.4 Identifying & Removing Overlapping Patients\n",
    "\n",
    "Run the next two cells to do the following:\n",
    "1. Create lists of the overlapping row numbers in both the training and validation sets. \n",
    "2. Drop the overlapping patient records from the validation set. \n",
    "\n",
    "**Note:** You could also choose to drop them from train set."
   ]
  },
  {
   "cell_type": "code",
   "execution_count": 9,
   "metadata": {},
   "outputs": [
    {
     "name": "stdout",
     "output_type": "stream",
     "text": [
      "These are the indices of overlapping patients in the training set: \n",
      "[306, 186, 797, 98, 408, 917, 327, 913, 10, 51, 276]\n",
      "These are the indices of overlapping patients in the validation set: \n",
      "[104, 88, 65, 13, 2, 41, 56, 70, 26, 75, 20, 52, 55]\n"
     ]
    }
   ],
   "source": [
    "train_overlap_idxs = []\n",
    "valid_overlap_idxs = []\n",
    "for idx in range(n_overlap):\n",
    "    train_overlap_idxs.extend(train_df.index[train_df['PatientId'] == patient_overlap[idx]].tolist())\n",
    "    valid_overlap_idxs.extend(valid_df.index[valid_df['PatientId'] == patient_overlap[idx]].tolist())\n",
    "    \n",
    "print(f'These are the indices of overlapping patients in the training set: ')\n",
    "print(f'{train_overlap_idxs}')\n",
    "print(f'These are the indices of overlapping patients in the validation set: ')\n",
    "print(f'{valid_overlap_idxs}')"
   ]
  },
  {
   "cell_type": "code",
   "execution_count": 10,
   "metadata": {},
   "outputs": [],
   "source": [
    "# Drop the overlapping rows from the validation set\n",
    "valid_df.drop(valid_overlap_idxs, inplace=True)"
   ]
  },
  {
   "cell_type": "markdown",
   "metadata": {},
   "source": [
    "### 1.5 Sanity Check \n",
    "\n",
    "Check that everything worked as planned by rerunning the patient ID comparison between train and validation sets. When you run the next two cells you should see that there are now fewer records in the validation set and that the overlap problem has been removed!"
   ]
  },
  {
   "cell_type": "code",
   "execution_count": 11,
   "metadata": {},
   "outputs": [
    {
     "name": "stdout",
     "output_type": "stream",
     "text": [
      "There are 86 unique Patient IDs in the training set\n"
     ]
    }
   ],
   "source": [
    "# Extract patient id's for the validation set\n",
    "ids_valid = valid_df.PatientId.values\n",
    "# Create a \"set\" datastructure of the validation set id's to identify unique id's\n",
    "ids_valid_set = set(ids_valid)\n",
    "print(f'There are {len(ids_valid_set)} unique Patient IDs in the training set')"
   ]
  },
  {
   "cell_type": "code",
   "execution_count": 12,
   "metadata": {},
   "outputs": [
    {
     "name": "stdout",
     "output_type": "stream",
     "text": [
      "There are 0 Patient IDs in both the training and validation sets\n"
     ]
    }
   ],
   "source": [
    "# Identify patient overlap by looking at the intersection between the sets\n",
    "patient_overlap = list(ids_train_set.intersection(ids_valid_set))\n",
    "n_overlap = len(patient_overlap)\n",
    "print(f'There are {n_overlap} Patient IDs in both the training and validation sets')"
   ]
  },
  {
   "cell_type": "markdown",
   "metadata": {},
   "source": [
    "### Congratulations! You removed overlapping patients from the validation set! \n",
    "\n",
    "You could have just as well removed them from the training set. \n",
    "\n",
    "Always be sure to check for patient overlap in your train, validation and test sets."
   ]
  },
  {
   "cell_type": "code",
   "execution_count": 12,
   "metadata": {},
   "outputs": [],
   "source": []
  }
 ],
 "metadata": {
  "kernelspec": {
   "display_name": "Python 3",
   "language": "python",
   "name": "python3"
  },
  "language_info": {
   "codemirror_mode": {
    "name": "ipython",
    "version": 3
   },
   "file_extension": ".py",
   "mimetype": "text/x-python",
   "name": "python",
   "nbconvert_exporter": "python",
   "pygments_lexer": "ipython3",
   "version": "3.6.3"
  }
 },
 "nbformat": 4,
 "nbformat_minor": 4
}