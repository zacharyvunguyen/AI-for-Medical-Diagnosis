{
 "cells": [
  {
   "cell_type": "markdown",
   "source": [
    "# W1 Review Code"
   ],
   "metadata": {
    "collapsed": false,
    "pycharm": {
     "name": "#%% md\n"
    }
   }
  },
  {
   "cell_type": "code",
   "execution_count": 2,
   "outputs": [],
   "source": [
    "import pandas as pd"
   ],
   "metadata": {
    "collapsed": false,
    "pycharm": {
     "name": "#%%\n"
    }
   }
  },
  {
   "cell_type": "markdown",
   "source": [
    "## Load Dataset\n",
    "\n",
    "---\n",
    "### Preventing Data Leakage\n",
    "* It is worth noting that our dataset contains multiple images for each patient.\n",
    "* This could be the case, for example, when a patient has taken multiple X-ray images at different times during their hospital visits.\n",
    "* In our data splitting, we have ensured that the split is done on the patient level so that **there is no data \"leakage\" between the train, validation, and test datasets.**"
   ],
   "metadata": {
    "collapsed": false
   }
  },
  {
   "cell_type": "markdown",
   "source": [
    "#### Checking Data Leakage\n",
    "* Write a function to check whether there is leakage between two datasets.\n",
    "* We'll use this to make sure there are no patients in the test set that are also present in either the train or validation sets.\n",
    "\n",
    "#####  Identifying Overlapping Records"
   ],
   "metadata": {
    "collapsed": false
   }
  },
  {
   "cell_type": "markdown",
   "source": [
    "Function: **check_for_leakage**: Return True if there any patients are in both df1 and df2\n",
    "\n",
    "    \"\"\"\n",
    "    Args:\n",
    "        df1 (dataframe): dataframe describing first dataset\n",
    "        df2 (dataframe): dataframe describing second dataset\n",
    "        patient_col (str): string name of column with patient IDs\n",
    "\n",
    "    Returns:\n",
    "        leakage (bool): True if there is leakage, otherwise False\n",
    "    \"\"\"\n"
   ],
   "metadata": {
    "collapsed": false,
    "pycharm": {
     "name": "#%% md\n"
    }
   }
  },
  {
   "cell_type": "markdown",
   "source": [],
   "metadata": {
    "collapsed": false
   }
  },
  {
   "cell_type": "code",
   "execution_count": 36,
   "outputs": [],
   "source": [
    "def check_for_leakage(df1, df2, patient_col):\n",
    "    df1_patients_unique = set(df1[patient_col].values)\n",
    "    df2_patients_unique = set(df2[patient_col].values)\n",
    "\n",
    "    patients_in_both_groups = df1_patients_unique.intersection(df2_patients_unique)\n",
    "\n",
    "    # leakage contains true if there is patient overlap, otherwise false.\n",
    "    leakage = len(patients_in_both_groups) != 0 # boolean (true if there is at least 1 patient in both groups)\n",
    "\n",
    "    return leakage"
   ],
   "metadata": {
    "collapsed": false,
    "pycharm": {
     "name": "#%%\n"
    }
   }
  },
  {
   "cell_type": "markdown",
   "source": [
    "If we get False for both, then we're ready to start preparing the datasets for training. Remember to always check for data leakage!"
   ],
   "metadata": {
    "collapsed": false,
    "pycharm": {
     "name": "#%% md\n"
    }
   }
  },
  {
   "cell_type": "code",
   "execution_count": 69,
   "outputs": [],
   "source": [
    "def zach_check_for_leakage(df1, df2, patient_col):\n",
    "    df1_patients_unique = set(df1[patient_col].values)\n",
    "    df2_patients_unique = set(df2[patient_col].values)\n",
    "\n",
    "    patients_in_both_groups = df1_patients_unique.intersection(df2_patients_unique)\n",
    "\n",
    "    # leakage contains true if there is patient overlap, otherwise false.\n",
    "    leakage = len(patients_in_both_groups) != 0 # boolean (true if there is at least 1 patient in both groups)\n",
    "\n",
    "    if leakage is False:\n",
    "        return print(f'{leakage}: There is No Leakage between the datasets. Ready to start preparing the datasets for training')\n",
    "    else:\n",
    "        return print(f'{leakage}: Leakage: there are {len(patients_in_both_groups)} records in both the datasets: {patients_in_both_groups}')"
   ],
   "metadata": {
    "collapsed": false,
    "pycharm": {
     "name": "#%%\n"
    }
   }
  },
  {
   "cell_type": "markdown",
   "source": [
    "Run the next cell to check if there are patients in both train and test or in both valid and test."
   ],
   "metadata": {
    "collapsed": false
   }
  },
  {
   "cell_type": "code",
   "execution_count": 130,
   "outputs": [],
   "source": [
    "#Case 1\n",
    "case1_train_df = pd.DataFrame({'PatientId': [0, 1, 2,3,4,5,6,8]})\n",
    "case1_valid_df= pd.DataFrame({'PatientId': [9, 10, 11,12]})\n",
    "case1_test_df = pd.DataFrame({'PatientId': [6, 0, 4,21,22,23,35]})"
   ],
   "metadata": {
    "collapsed": false,
    "pycharm": {
     "name": "#%%\n"
    }
   }
  },
  {
   "cell_type": "code",
   "execution_count": 131,
   "outputs": [
    {
     "name": "stdout",
     "output_type": "stream",
     "text": [
      "True: Leakage: there are 3 records in both the datasets: {0, 4, 6}\n",
      "False: There is No Leakage between the datasets. Ready to start preparing the datasets for training\n"
     ]
    }
   ],
   "source": [
    "zach_check_for_leakage(case1_train_df, case1_test_df, 'PatientId')\n",
    "zach_check_for_leakage(case1_valid_df, case1_test_df, 'PatientId')"
   ],
   "metadata": {
    "collapsed": false,
    "pycharm": {
     "name": "#%%\n"
    }
   }
  },
  {
   "cell_type": "code",
   "execution_count": 132,
   "outputs": [
    {
     "name": "stdout",
     "output_type": "stream",
     "text": [
      "leakage between train and test: True\n",
      "leakage between valid and test: False\n"
     ]
    }
   ],
   "source": [
    "print(\"leakage between train and test: {}\".format(check_for_leakage(case1_train_df, case1_test_df, 'PatientId')))\n",
    "print(\"leakage between valid and test: {}\".format(check_for_leakage(case1_valid_df, case1_test_df, 'PatientId')))"
   ],
   "metadata": {
    "collapsed": false,
    "pycharm": {
     "name": "#%%\n"
    }
   }
  },
  {
   "cell_type": "markdown",
   "source": [
    "#####  Remove Overlapping Records"
   ],
   "metadata": {
    "collapsed": false,
    "pycharm": {
     "name": "#%% md\n"
    }
   }
  },
  {
   "cell_type": "code",
   "execution_count": 133,
   "outputs": [],
   "source": [
    "def remove_overlapping_records (df1, df2, input_col):\n",
    "    ids_df1 = df1[input_col].values\n",
    "    ids_df2 = df2[input_col].values\n",
    "\n",
    "    ids_df1_set = set(ids_df1)\n",
    "    ids_df2_set = set(ids_df2)\n",
    "\n",
    "    records_overlap=  list(ids_df1_set.intersection(ids_df2_set))\n",
    "    n_overlap = len(records_overlap)\n",
    "\n",
    "    df1_overlap_idxs = []\n",
    "    df2_overlap_idxs = []\n",
    "\n",
    "    for idx in range(n_overlap):\n",
    "        df1_overlap_idxs.extend(df1.index[df1[input_col] == records_overlap[idx]].tolist())\n",
    "        df2_overlap_idxs.extend(df2.index[df2[input_col] == records_overlap[idx]].tolist())\n",
    "\n",
    "    leakage = n_overlap != 0 # boolean (true if there is at least 1 patient in both groups)\n",
    "\n",
    "    if leakage is False:\n",
    "        return print(f'{leakage}: There is No Leakage between the datasets. Ready to start preparing the datasets for training')\n",
    "    else:\n",
    "        return \\\n",
    "            print(f'{leakage}: Leakage: there are {n_overlap} records in both the datasets: {records_overlap}'), print(f'These are the indices of overlapping patients in the first set:{df1_overlap_idxs}'), print(f'These are the indices of overlapping patients in the second set:{df2_overlap_idxs}'), df2.drop(df2_overlap_idxs, inplace=True), print(f'Removed {n_overlap} overlapping record from the second dataframe.')"
   ],
   "metadata": {
    "collapsed": false,
    "pycharm": {
     "name": "#%%\n"
    }
   }
  },
  {
   "cell_type": "code",
   "execution_count": 134,
   "outputs": [
    {
     "data": {
      "text/plain": "   PatientId\n0          0\n1          1\n2          2\n3          3\n4          4\n5          5\n6          6\n7          8",
      "text/html": "<div>\n<style scoped>\n    .dataframe tbody tr th:only-of-type {\n        vertical-align: middle;\n    }\n\n    .dataframe tbody tr th {\n        vertical-align: top;\n    }\n\n    .dataframe thead th {\n        text-align: right;\n    }\n</style>\n<table border=\"1\" class=\"dataframe\">\n  <thead>\n    <tr style=\"text-align: right;\">\n      <th></th>\n      <th>PatientId</th>\n    </tr>\n  </thead>\n  <tbody>\n    <tr>\n      <th>0</th>\n      <td>0</td>\n    </tr>\n    <tr>\n      <th>1</th>\n      <td>1</td>\n    </tr>\n    <tr>\n      <th>2</th>\n      <td>2</td>\n    </tr>\n    <tr>\n      <th>3</th>\n      <td>3</td>\n    </tr>\n    <tr>\n      <th>4</th>\n      <td>4</td>\n    </tr>\n    <tr>\n      <th>5</th>\n      <td>5</td>\n    </tr>\n    <tr>\n      <th>6</th>\n      <td>6</td>\n    </tr>\n    <tr>\n      <th>7</th>\n      <td>8</td>\n    </tr>\n  </tbody>\n</table>\n</div>"
     },
     "execution_count": 134,
     "metadata": {},
     "output_type": "execute_result"
    }
   ],
   "source": [
    "case1_train_df"
   ],
   "metadata": {
    "collapsed": false,
    "pycharm": {
     "name": "#%%\n"
    }
   }
  },
  {
   "cell_type": "code",
   "execution_count": 135,
   "outputs": [
    {
     "data": {
      "text/plain": "   PatientId\n0          6\n1          0\n2          4\n3         21\n4         22\n5         23\n6         35",
      "text/html": "<div>\n<style scoped>\n    .dataframe tbody tr th:only-of-type {\n        vertical-align: middle;\n    }\n\n    .dataframe tbody tr th {\n        vertical-align: top;\n    }\n\n    .dataframe thead th {\n        text-align: right;\n    }\n</style>\n<table border=\"1\" class=\"dataframe\">\n  <thead>\n    <tr style=\"text-align: right;\">\n      <th></th>\n      <th>PatientId</th>\n    </tr>\n  </thead>\n  <tbody>\n    <tr>\n      <th>0</th>\n      <td>6</td>\n    </tr>\n    <tr>\n      <th>1</th>\n      <td>0</td>\n    </tr>\n    <tr>\n      <th>2</th>\n      <td>4</td>\n    </tr>\n    <tr>\n      <th>3</th>\n      <td>21</td>\n    </tr>\n    <tr>\n      <th>4</th>\n      <td>22</td>\n    </tr>\n    <tr>\n      <th>5</th>\n      <td>23</td>\n    </tr>\n    <tr>\n      <th>6</th>\n      <td>35</td>\n    </tr>\n  </tbody>\n</table>\n</div>"
     },
     "execution_count": 135,
     "metadata": {},
     "output_type": "execute_result"
    }
   ],
   "source": [
    "case1_test_df"
   ],
   "metadata": {
    "collapsed": false,
    "pycharm": {
     "name": "#%%\n"
    }
   }
  },
  {
   "cell_type": "code",
   "execution_count": 136,
   "outputs": [
    {
     "name": "stdout",
     "output_type": "stream",
     "text": [
      "True: Leakage: there are 3 records in both the datasets: [0, 4, 6]\n",
      "These are the indices of overlapping patients in the first set:[0, 4, 6]\n",
      "These are the indices of overlapping patients in the second set:[1, 2, 0]\n",
      "Removed 3 overlapping record from the second dataframe.\n"
     ]
    },
    {
     "data": {
      "text/plain": "(None, None, None, None, None)"
     },
     "execution_count": 136,
     "metadata": {},
     "output_type": "execute_result"
    }
   ],
   "source": [
    "remove_overlapping_records(case1_train_df, case1_test_df, 'PatientId')"
   ],
   "metadata": {
    "collapsed": false,
    "pycharm": {
     "name": "#%%\n"
    }
   }
  },
  {
   "cell_type": "code",
   "execution_count": 137,
   "outputs": [
    {
     "data": {
      "text/plain": "   PatientId\n3         21\n4         22\n5         23\n6         35",
      "text/html": "<div>\n<style scoped>\n    .dataframe tbody tr th:only-of-type {\n        vertical-align: middle;\n    }\n\n    .dataframe tbody tr th {\n        vertical-align: top;\n    }\n\n    .dataframe thead th {\n        text-align: right;\n    }\n</style>\n<table border=\"1\" class=\"dataframe\">\n  <thead>\n    <tr style=\"text-align: right;\">\n      <th></th>\n      <th>PatientId</th>\n    </tr>\n  </thead>\n  <tbody>\n    <tr>\n      <th>3</th>\n      <td>21</td>\n    </tr>\n    <tr>\n      <th>4</th>\n      <td>22</td>\n    </tr>\n    <tr>\n      <th>5</th>\n      <td>23</td>\n    </tr>\n    <tr>\n      <th>6</th>\n      <td>35</td>\n    </tr>\n  </tbody>\n</table>\n</div>"
     },
     "execution_count": 137,
     "metadata": {},
     "output_type": "execute_result"
    }
   ],
   "source": [
    "case1_test_df"
   ],
   "metadata": {
    "collapsed": false,
    "pycharm": {
     "name": "#%%\n"
    }
   }
  },
  {
   "cell_type": "code",
   "execution_count": 102,
   "outputs": [
    {
     "name": "stdout",
     "output_type": "stream",
     "text": [
      "False: There is No Leakage between the datasets. Ready to start preparing the datasets for training\n"
     ]
    }
   ],
   "source": [
    "zach_check_for_leakage(case1_valid_df, case1_test_df, 'PatientId')"
   ],
   "metadata": {
    "collapsed": false,
    "pycharm": {
     "name": "#%%\n"
    }
   }
  },
  {
   "cell_type": "code",
   "execution_count": null,
   "outputs": [],
   "source": [],
   "metadata": {
    "collapsed": false,
    "pycharm": {
     "name": "#%%\n"
    }
   }
  }
 ],
 "metadata": {
  "kernelspec": {
   "display_name": "Python 3",
   "language": "python",
   "name": "python3"
  },
  "language_info": {
   "codemirror_mode": {
    "name": "ipython",
    "version": 2
   },
   "file_extension": ".py",
   "mimetype": "text/x-python",
   "name": "python",
   "nbconvert_exporter": "python",
   "pygments_lexer": "ipython2",
   "version": "2.7.6"
  }
 },
 "nbformat": 4,
 "nbformat_minor": 0
}